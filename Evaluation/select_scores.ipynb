{
 "cells": [
  {
   "cell_type": "code",
   "execution_count": 31,
   "metadata": {},
   "outputs": [],
   "source": [
    "import numpy as np\n",
    "import os"
   ]
  },
  {
   "cell_type": "code",
   "execution_count": 32,
   "metadata": {},
   "outputs": [],
   "source": [
    "eval_folder = \"/checkpoints/sticker/DPO/eval-test\"\n",
    "res_folder = []\n",
    "for subf in os.listdir(eval_folder):\n",
    "    if subf.startswith(\"checkpoint\"):\n",
    "        res_folder.append(subf)"
   ]
  },
  {
   "cell_type": "code",
   "execution_count": 33,
   "metadata": {},
   "outputs": [],
   "source": [
    "score_name = \"select_scores_dm_scale7.0.npy\""
   ]
  },
  {
   "cell_type": "code",
   "execution_count": 34,
   "metadata": {},
   "outputs": [],
   "source": [
    "all_select_scores = {}\n",
    "for folder in res_folder:\n",
    "    path = os.path.join(eval_folder, folder, score_name)\n",
    "    select_scores = np.load(path, allow_pickle=True).item()\n",
    "    all_select_scores[folder] = select_scores"
   ]
  },
  {
   "cell_type": "code",
   "execution_count": 35,
   "metadata": {},
   "outputs": [],
   "source": [
    "example_key = list(sorted(all_select_scores.keys(), key=lambda x:float(x.split(\"-\")[-1][4:])))[0]"
   ]
  },
  {
   "cell_type": "code",
   "execution_count": 37,
   "metadata": {},
   "outputs": [
    {
     "data": {
      "text/plain": [
       "'checkpoint-375-scale1.0-mask0.0'"
      ]
     },
     "execution_count": 37,
     "metadata": {},
     "output_type": "execute_result"
    }
   ],
   "source": [
    "example_key"
   ]
  },
  {
   "cell_type": "code",
   "execution_count": 38,
   "metadata": {},
   "outputs": [],
   "source": [
    "select_ratio = 0.5"
   ]
  },
  {
   "cell_type": "code",
   "execution_count": 39,
   "metadata": {},
   "outputs": [],
   "source": [
    "re_select_scores = {}\n",
    "for uid in example_scores:\n",
    "    if uid not in re_select_scores:\n",
    "        re_select_scores[uid] = {}\n",
    "\n",
    "    for iid in example_scores[uid]:\n",
    "        if iid not in re_select_scores[uid]:\n",
    "            re_select_scores[uid][iid] = {}\n",
    "\n",
    "        for gid in example_scores[uid][iid]:\n",
    "            if gid not in re_select_scores[uid][iid]:\n",
    "                re_select_scores[uid][iid][gid] = {}\n",
    "                re_select_scores[uid][iid][gid][\"folder\"] = []\n",
    "                re_select_scores[uid][iid][gid][\"seq_id\"] = []\n",
    "                re_select_scores[uid][iid][gid][\"img_id\"] = []\n",
    "                re_select_scores[uid][iid][gid][\"score\"] = []\n",
    "            \n",
    "            for folder in all_select_scores:\n",
    "                cur_scores = all_select_scores[folder][uid][iid][gid]\n",
    "                all_seq_id = []\n",
    "                all_img_id = []\n",
    "                all_seq_score = []\n",
    "                for seq_id in cur_scores:\n",
    "                    all_seq_id.append(seq_id)\n",
    "                    tgt_scores = cur_scores[seq_id][\"tgt_score\"]\n",
    "                    hist_scores = cur_scores[seq_id][\"hist_score\"]\n",
    "                    seq_scores = [select_ratio * tgt_score + (1 - select_ratio) * hist_score for tgt_score,hist_score in zip(tgt_scores, hist_scores)]\n",
    "                    max_score = max(seq_scores)\n",
    "                    max_img_idx = seq_scores.index(max_score)\n",
    "                    all_img_id.append(max_img_idx)\n",
    "                    all_seq_score.append(max_score)\n",
    "                \n",
    "                max_score = max(all_seq_score)\n",
    "                max_idx = all_seq_score.index(max_score)\n",
    "                max_seq_id = all_seq_id[max_idx]\n",
    "                max_img_id = all_img_id[max_idx]\n",
    "\n",
    "                re_select_scores[uid][iid][gid][\"folder\"].append(folder)\n",
    "                re_select_scores[uid][iid][gid][\"seq_id\"].append(max_seq_id)\n",
    "                re_select_scores[uid][iid][gid][\"img_id\"].append(max_img_id)\n",
    "                re_select_scores[uid][iid][gid][\"score\"].append(max_score)"
   ]
  },
  {
   "cell_type": "code",
   "execution_count": 40,
   "metadata": {},
   "outputs": [],
   "source": [
    "from copy import deepcopy"
   ]
  },
  {
   "cell_type": "code",
   "execution_count": 41,
   "metadata": {},
   "outputs": [],
   "source": [
    "final_select_scores = deepcopy(re_select_scores)\n",
    "\n",
    "for uid in re_select_scores:\n",
    "    for iid in re_select_scores[uid]:\n",
    "        for gid in re_select_scores[uid][iid]:\n",
    "            scores = re_select_scores[uid][iid][gid][\"score\"]\n",
    "            best_score = max(scores)\n",
    "            best_idx = scores.index(best_score)\n",
    "            best_folder = re_select_scores[uid][iid][gid][\"folder\"][best_idx]\n",
    "            best_seq_id = re_select_scores[uid][iid][gid][\"seq_id\"][best_idx]\n",
    "            best_img_id = re_select_scores[uid][iid][gid][\"img_id\"][best_idx]\n",
    "\n",
    "            final_select_scores[uid][iid][gid][\"folder\"] = best_folder\n",
    "            final_select_scores[uid][iid][gid][\"seq_id\"] = best_seq_id\n",
    "            final_select_scores[uid][iid][gid][\"img_id\"] = best_img_id\n",
    "            final_select_scores[uid][iid][gid][\"score\"] = best_score"
   ]
  },
  {
   "cell_type": "code",
   "execution_count": 42,
   "metadata": {},
   "outputs": [],
   "source": [
    "np.save(os.path.join(eval_folder, \"final_select_scores.npy\"), np.array(final_select_scores))"
   ]
  },
  {
   "cell_type": "code",
   "execution_count": 43,
   "metadata": {},
   "outputs": [],
   "source": [
    "all_res = {}\n",
    "res_name = \"all_res_dm_scale7.0.npy\"\n",
    "for folder in res_folder:\n",
    "    path = os.path.join(eval_folder, folder, res_name)\n",
    "    res = np.load(path, allow_pickle=True).item()\n",
    "    all_res[folder] = res"
   ]
  },
  {
   "cell_type": "code",
   "execution_count": 44,
   "metadata": {},
   "outputs": [],
   "source": [
    "import shutil\n",
    "final_folder = example_key.split(\"-\")\n",
    "final_folder[-1] = \"mask2.0\"\n",
    "final_folder = \"-\".join(final_folder)\n",
    "\n",
    "final_res = deepcopy(all_res[example_key])\n",
    "for uid in final_select_scores:\n",
    "    for iid in final_select_scores[uid]:\n",
    "        for gid in final_select_scores[uid][iid]:\n",
    "            folder = final_select_scores[uid][iid][gid][\"folder\"]\n",
    "            seq_id = final_select_scores[uid][iid][gid][\"seq_id\"]\n",
    "            img_id = final_select_scores[uid][iid][gid][\"img_id\"]\n",
    "            score = final_select_scores[uid][iid][gid][\"score\"]\n",
    "\n",
    "            seqs_info = {}\n",
    "            seqs_info[0] = deepcopy(all_res[folder][uid][iid][gid][\"seqs\"][seq_id])\n",
    "            seqs_info[0][\"src_images\"] = seqs_info[0][\"images\"][img_id:img_id+1]\n",
    "            seqs_info[0][\"images\"] = []\n",
    "\n",
    "            for src_img_path in seqs_info[0][\"src_images\"]:\n",
    "                src_img_folder = \"/\".join(src_img_path.split(\"/\")[:-2])\n",
    "                img_path_list = [final_folder] + src_img_path.split(\"/\")[1:]\n",
    "                tgt_img_folder = \"/\".join(img_path_list[:-2])\n",
    "                os.makedirs(os.path.join(eval_folder, tgt_img_folder), exist_ok=True)\n",
    "\n",
    "                for item in os.listdir(os.path.join(eval_folder, src_img_folder)):\n",
    "                    src_path = os.path.join(eval_folder, src_img_folder, item)\n",
    "                    if os.path.isfile(src_path):\n",
    "                        shutil.copy(src_path, os.path.join(eval_folder, tgt_img_folder))\n",
    "\n",
    "                tgt_img_folder = \"/\".join(img_path_list[:-2] + [\"0\"])\n",
    "                os.makedirs(os.path.join(eval_folder, tgt_img_folder), exist_ok=True)\n",
    "                tgt_img_path = \"/\".join(img_path_list[:-2] + [\"0\", \"0.jpg\"])\n",
    "                shutil.copy(os.path.join(eval_folder, src_img_path), os.path.join(eval_folder, tgt_img_path))  \n",
    "\n",
    "                seqs_info[0][\"images\"].append(tgt_img_path)\n",
    "\n",
    "            final_res[uid][iid][gid][\"seqs\"] = seqs_info"
   ]
  },
  {
   "cell_type": "code",
   "execution_count": 45,
   "metadata": {},
   "outputs": [],
   "source": [
    "np.save(os.path.join(eval_folder, final_folder, res_name), np.array(final_res))"
   ]
  }
 ],
 "metadata": {
  "kernelspec": {
   "display_name": "pigeon",
   "language": "python",
   "name": "python3"
  },
  "language_info": {
   "codemirror_mode": {
    "name": "ipython",
    "version": 3
   },
   "file_extension": ".py",
   "mimetype": "text/x-python",
   "name": "python",
   "nbconvert_exporter": "python",
   "pygments_lexer": "ipython3",
   "version": "3.8.13"
  }
 },
 "nbformat": 4,
 "nbformat_minor": 2
}
