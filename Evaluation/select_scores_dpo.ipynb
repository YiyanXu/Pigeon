{
 "cells": [
  {
   "cell_type": "code",
   "execution_count": 31,
   "metadata": {},
   "outputs": [],
   "source": [
    "import numpy as np\n",
    "import os"
   ]
  },
  {
   "cell_type": "code",
   "execution_count": 32,
   "metadata": {},
   "outputs": [],
   "source": [
    "mode = \"train\"\n",
    "eval_folder = f\"/checkpoints/sticker/SFT/eval-{mode}\"\n",
    "res_folder = []\n",
    "for subf in os.listdir(eval_folder):\n",
    "    if subf.startswith(\"checkpoint\"):\n",
    "        res_folder.append(subf)"
   ]
  },
  {
   "cell_type": "code",
   "execution_count": 33,
   "metadata": {},
   "outputs": [],
   "source": [
    "score_name = \"select_scores_dm_scale7.0.npy\""
   ]
  },
  {
   "cell_type": "code",
   "execution_count": 34,
   "metadata": {},
   "outputs": [],
   "source": [
    "all_select_scores = {}\n",
    "for folder in res_folder:\n",
    "    path = os.path.join(eval_folder, folder, score_name)\n",
    "    select_scores = np.load(path, allow_pickle=True).item()\n",
    "    all_select_scores[folder] = select_scores"
   ]
  },
  {
   "cell_type": "code",
   "execution_count": 35,
   "metadata": {},
   "outputs": [],
   "source": [
    "example_key = list(sorted(all_select_scores.keys(), key=lambda x:float(x.split(\"-\")[-1][4:])))[0]"
   ]
  },
  {
   "cell_type": "code",
   "execution_count": 37,
   "metadata": {},
   "outputs": [
    {
     "data": {
      "text/plain": [
       "'checkpoint-375-scale1.0-mask0.0'"
      ]
     },
     "execution_count": 37,
     "metadata": {},
     "output_type": "execute_result"
    }
   ],
   "source": [
    "example_key"
   ]
  },
  {
   "cell_type": "code",
   "execution_count": 39,
   "metadata": {},
   "outputs": [],
   "source": [
    "re_select_scores = {}\n",
    "for uid in example_scores:\n",
    "    if uid not in re_select_scores:\n",
    "        re_select_scores[uid] = {}\n",
    "\n",
    "    for iid in example_scores[uid]:\n",
    "        if iid not in re_select_scores[uid]:\n",
    "            re_select_scores[uid][iid] = {}\n",
    "\n",
    "        for gid in example_scores[uid][iid]:\n",
    "            if gid not in re_select_scores[uid][iid]:\n",
    "                re_select_scores[uid][iid][gid] = {}\n",
    "                re_select_scores[uid][iid][gid][\"folder\"] = []\n",
    "                re_select_scores[uid][iid][gid][\"seq_id\"] = []\n",
    "                re_select_scores[uid][iid][gid][\"img_id\"] = []\n",
    "                re_select_scores[uid][iid][gid][\"score\"] = []\n",
    "            \n",
    "            for folder in all_select_scores:\n",
    "                cur_scores = all_select_scores[folder][uid][iid][gid]\n",
    "                all_seq_id = []\n",
    "                all_img_id = []\n",
    "                all_seq_score = []\n",
    "                for seq_id in cur_scores:\n",
    "                    all_seq_id.append(seq_id)\n",
    "                    seq_scores = cur_scores[seq_id][\"hist_score\"]\n",
    "                    max_score = max(seq_scores)\n",
    "                    max_img_idx = seq_scores.index(max_score)\n",
    "                    all_img_id.append(max_img_idx)\n",
    "                    all_seq_score.append(max_score)\n",
    "                \n",
    "                max_score = max(all_seq_score)\n",
    "                max_idx = all_seq_score.index(max_score)\n",
    "                max_seq_id = all_seq_id[max_idx]\n",
    "                max_img_id = all_img_id[max_idx]\n",
    "\n",
    "                re_select_scores[uid][iid][gid][\"folder\"].append(folder)\n",
    "                re_select_scores[uid][iid][gid][\"seq_id\"].append(max_seq_id)\n",
    "                re_select_scores[uid][iid][gid][\"img_id\"].append(max_img_id)\n",
    "                re_select_scores[uid][iid][gid][\"score\"].append(max_score)"
   ]
  },
  {
   "cell_type": "code",
   "execution_count": 40,
   "metadata": {},
   "outputs": [],
   "source": [
    "from copy import deepcopy"
   ]
  },
  {
   "cell_type": "code",
   "execution_count": 41,
   "metadata": {},
   "outputs": [],
   "source": [
    "chosen_scores = deepcopy(re_select_scores)\n",
    "rejected_scores = deepcopy(re_select_scores)\n",
    "\n",
    "for uid in re_select_scores:\n",
    "    for iid in re_select_scores[uid]:\n",
    "        for gid in re_select_scores[uid][iid]:\n",
    "            scores = re_select_scores[uid][iid][gid][\"score\"]\n",
    "            best_score = max(scores)\n",
    "            best_idx = scores.index(best_score)\n",
    "            best_folder = re_select_scores[uid][iid][gid][\"folder\"][best_idx]\n",
    "            best_seq_id = re_select_scores[uid][iid][gid][\"seq_id\"][best_idx]\n",
    "            best_img_id = re_select_scores[uid][iid][gid][\"img_id\"][best_idx]\n",
    "\n",
    "            chosen_scores[uid][iid][gid][\"folder\"] = best_folder\n",
    "            chosen_scores[uid][iid][gid][\"seq_id\"] = best_seq_id\n",
    "            chosen_scores[uid][iid][gid][\"img_id\"] = best_img_id\n",
    "            chosen_scores[uid][iid][gid][\"score\"] = best_score\n",
    "\n",
    "            worst_score = min(scores)\n",
    "            worst_idx = scores.index(worst_score)\n",
    "            rejected_scores[uid][iid][gid][\"folder\"] = re_select_scores[uid][iid][gid][\"folder\"][worst_idx]\n",
    "            rejected_scores[uid][iid][gid][\"seq_id\"] = re_select_scores[uid][iid][gid][\"seq_id\"][worst_idx]\n",
    "            rejected_scores[uid][iid][gid][\"img_id\"] = re_select_scores[uid][iid][gid][\"img_id\"][worst_idx]\n",
    "            rejected_scores[uid][iid][gid][\"score\"] = worst_score"
   ]
  },
  {
   "cell_type": "code",
   "execution_count": 42,
   "metadata": {},
   "outputs": [],
   "source": [
    "np.save(os.path.join(eval_folder, \"chosen_scores.npy\"), np.array(chosen_scores))\n",
    "np.save(os.path.join(eval_folder, \"rejected_scores.npy\"), np.array(rejected_scores))"
   ]
  },
  {
   "cell_type": "code",
   "execution_count": 43,
   "metadata": {},
   "outputs": [],
   "source": [
    "all_res = {}\n",
    "res_name = \"all_res_dm_scale7.0.npy\"\n",
    "for folder in res_folder:\n",
    "    path = os.path.join(eval_folder, folder, res_name)\n",
    "    res = np.load(path, allow_pickle=True).item()\n",
    "    all_res[folder] = res"
   ]
  },
  {
   "cell_type": "code",
   "execution_count": null,
   "metadata": {},
   "outputs": [],
   "source": [
    "import torch\n",
    "\n",
    "data_seq = {}\n",
    "preference_data = {}\n",
    "seq_num = 0\n",
    "for uid in chosen_scores:\n",
    "    if uid not in data_seq:\n",
    "        data_seq[uid] = {}\n",
    "        preference_data[uid] = {}\n",
    "\n",
    "    for iid in chosen_scores[uid]:\n",
    "        if iid not in preference_data[uid]:\n",
    "            preference_data[uid][iid] = {}\n",
    "\n",
    "        for gid in chosen_scores[uid][iid]:\n",
    "            if gid not in preference_data[uid][iid]:\n",
    "                preference_data[uid][iid][gid] = {}\n",
    "            \n",
    "            if gid not in data_seq[uid]:\n",
    "                data_seq[uid][gid] = []\n",
    "\n",
    "            chosen_folder = chosen_scores[uid][iid][gid][\"folder\"]\n",
    "            chosen_seq_id = chosen_scores[uid][iid][gid][\"seq_id\"]\n",
    "\n",
    "            history = all_res[chosen_folder][uid][iid][gid][\"history\"].tolist()\n",
    "            chosen = all_res[chosen_folder][uid][iid][gid][\"seqs\"][chosen_seq_id][\"tokens\"]\n",
    "            non_pad_idx = torch.nonzero(chosen != 2, as_tuple=False)[-1].item()\n",
    "            chosen = chosen[:non_pad_idx + 1]\n",
    "\n",
    "            rejected_folder = rejected_scores[uid][iid][gid][\"folder\"]\n",
    "            rejected_seq_id = rejected_scores[uid][iid][gid][\"seq_id\"]\n",
    "            rejected = all_res[rejected_folder][uid][iid][gid][\"seqs\"][rejected_seq_id][\"tokens\"]\n",
    "            non_pad_idx = torch.nonzero(rejected != 2, as_tuple=False)[-1].item()\n",
    "            rejected = rejected[:non_pad_idx + 1]\n",
    "            \n",
    "            seq = history + [iid]\n",
    "            data_seq[uid][gid].append(seq)\n",
    "            preference_data[uid][iid][gid][\"chosen\"] = chosen\n",
    "            preference_data[uid][iid][gid][\"rejected\"] = rejected\n",
    "\n",
    "            seq_num += 1"
   ]
  },
  {
   "cell_type": "code",
   "execution_count": 45,
   "metadata": {},
   "outputs": [],
   "source": [
    "np.save(f\"{data_path}/dpo/{mode}.npy\", np.array(data_seq))\n",
    "np.save(f\"{data_path}/dpo/{mode}_preference_data.npy\", np.array(preference_data))"
   ]
  }
 ],
 "metadata": {
  "kernelspec": {
   "display_name": "pigeon",
   "language": "python",
   "name": "python3"
  },
  "language_info": {
   "codemirror_mode": {
    "name": "ipython",
    "version": 3
   },
   "file_extension": ".py",
   "mimetype": "text/x-python",
   "name": "python",
   "nbconvert_exporter": "python",
   "pygments_lexer": "ipython3",
   "version": "3.8.13"
  }
 },
 "nbformat": 4,
 "nbformat_minor": 2
}
